{
 "cells": [
  {
   "cell_type": "markdown",
   "metadata": {},
   "source": [
    "# Prova 1\n",
    "\n",
    "## Questão 5\n",
    "Calcular o Máximo Divisor Comum (MDC) de dois números. O MDC de dois números pode ser obtido escolhendo o maior deles e subtraindo-lhe o valor do menor. Esta operação é repetida até que os dois números resultantes sejam iguais, cujo valor será o MDC dos números iniciais.\n",
    "\n",
    "Lembre-se que um número natural diferente de 0 e 1 e que é apenas múltiplo de 1 e de si próprio é chamado de número primo. Um número que não é primo é chamado de número composto. \n",
    "\n",
    "Pela definição vemos que ela não classifica o 0 e o 1 nem como primos e nem como compostos. Assim todos os números naturais, exceto 0 e 1, são classificados em primo ou composto."
   ]
  },
  {
   "cell_type": "code",
   "execution_count": 1,
   "metadata": {},
   "outputs": [],
   "source": [
    "#include<iostream>\n",
    "// Declare as variáveis nesse campo\n",
    "int numero1, numero2, auxiliar1, auxiliar2;"
   ]
  },
  {
   "cell_type": "code",
   "execution_count": 10,
   "metadata": {},
   "outputs": [],
   "source": [
    "// Inicialize as variáveis com dois números primos quaisquer\n",
    "numero1 = 13;\n",
    "numero2 = 19;"
   ]
  },
  {
   "cell_type": "code",
   "execution_count": 9,
   "metadata": {},
   "outputs": [],
   "source": [
    "// Inicialize as variáveis com dois números compostos quaisquer\n",
    "numero1 = 20;\n",
    "numero2 = 10;"
   ]
  },
  {
   "cell_type": "code",
   "execution_count": 8,
   "metadata": {},
   "outputs": [
    {
     "name": "stdout",
     "output_type": "stream",
     "text": [
      "Números inválidos!"
     ]
    }
   ],
   "source": [
    "// Responda o que aconteceria se um dos dois números for inicializado com zero. O que precisaria mudar no seu algoritmo? \n",
    "// Implemente aqui!\n",
    "if ((numero1 <= 0) || (numero2 <= 0))\n",
    "    std::cout << \"Números inválidos!\""
   ]
  },
  {
   "cell_type": "code",
   "execution_count": 11,
   "metadata": {},
   "outputs": [
    {
     "name": "stdout",
     "output_type": "stream",
     "text": [
      "O MDC vale: 1\n"
     ]
    }
   ],
   "source": [
    "// Implemente o algoritmo para determinar o MDC de dois números quaisquer aqui\n",
    "auxiliar1 = numero1;\n",
    "auxiliar2 = numero2;\n",
    "\n",
    "while (auxiliar1 != auxiliar2) \n",
    "    if (auxiliar1 > auxiliar2)\n",
    "        auxiliar1 -= auxiliar2;\n",
    "    else\n",
    "        auxiliar2 -= auxiliar1;\n",
    "\n",
    "std::cout << \"O MDC vale: \" << auxiliar1 << std::endl;"
   ]
  },
  {
   "cell_type": "code",
   "execution_count": null,
   "metadata": {},
   "outputs": [],
   "source": []
  }
 ],
 "metadata": {
  "kernelspec": {
   "display_name": "C++14",
   "language": "C++14",
   "name": "xeus-cling-cpp14"
  },
  "language_info": {
   "codemirror_mode": "text/x-c++src",
   "file_extension": ".cpp",
   "mimetype": "text/x-c++src",
   "name": "c++",
   "version": "14"
  }
 },
 "nbformat": 4,
 "nbformat_minor": 2
}
