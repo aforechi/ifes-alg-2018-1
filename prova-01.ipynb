{
 "cells": [
  {
   "cell_type": "markdown",
   "metadata": {},
   "source": [
    "# Prova 1\n",
    "\n",
    "## Questão 5\n",
    "Calcular o Máximo Divisor Comum (MDC) de dois números. O MDC de dois números pode ser obtido escolhendo o maior deles e subtraindo-lhe o valor do menor. Esta operação é repetida até que os dois números resultantes sejam iguais, cujo valor será o MDC dos números iniciais.\n",
    "\n",
    "Lembre-se que um número natural diferente de 0 e 1 e que é apenas múltiplo de 1 e de si próprio é chamado de número primo. Um número que não é primo é chamado de número composto. \n",
    "\n",
    "Pela definição vemos que ela não classifica o 0 e o 1 nem como primos e nem como compostos. Assim todos os números naturais, exceto 0 e 1, são classificados em primo ou composto."
   ]
  },
  {
   "cell_type": "code",
   "execution_count": null,
   "metadata": {},
   "outputs": [],
   "source": [
    "// Declare as variáveis nesse campo"
   ]
  },
  {
   "cell_type": "code",
   "execution_count": null,
   "metadata": {},
   "outputs": [],
   "source": [
    "// Inicialize as variáveis com dois números primos quaisquer"
   ]
  },
  {
   "cell_type": "code",
   "execution_count": null,
   "metadata": {},
   "outputs": [],
   "source": [
    "// Inicialize as variáveis com dois números compostos quaisquer"
   ]
  },
  {
   "cell_type": "code",
   "execution_count": null,
   "metadata": {},
   "outputs": [],
   "source": [
    "// Responda o que aconteceria se um dos dois números for inicializado com zero. O que precisaria mudar no seu algoritmo? \n",
    "// Implemente aqui!"
   ]
  },
  {
   "cell_type": "code",
   "execution_count": null,
   "metadata": {},
   "outputs": [],
   "source": [
    "// Implemente o algoritmo para determinar o MDC de dois números quaisquer aqui"
   ]
  }
 ],
 "metadata": {
  "kernelspec": {
   "display_name": "C++14",
   "language": "C++14",
   "name": "xeus-cling-cpp14"
  },
  "language_info": {
   "codemirror_mode": "text/x-c++src",
   "file_extension": ".cpp",
   "mimetype": "text/x-c++src",
   "name": "c++",
   "version": "14"
  }
 },
 "nbformat": 4,
 "nbformat_minor": 2
}
