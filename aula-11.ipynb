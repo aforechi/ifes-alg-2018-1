{
 "cells": [
  {
   "cell_type": "markdown",
   "metadata": {},
   "source": [
    "# Aula 11: Vetores, Strings e Matrizes\n",
    "\n",
    "## Revisão\n",
    "\n",
    "- Variáveis\n",
    "    - Declaração, definição, escopo\n",
    "- Constantes\n",
    "- Tipos de Dados\n",
    "    - Tipos simples\n",
    "        - Inteiro, Real e Caracter\n",
    "    - Tipo Composto Heterogêneo \n",
    "        - Tipo Abstrato de Dados\n",
    "- Funções\n",
    "    - Declaração, definição, parâmetros, tipo/retorno, chamada\n",
    "\n",
    "## Nesta aula\n",
    "\n",
    "- Vetores\n",
    "- Strings\n",
    "- Matrizes\n",
    "\n",
    "## Vetores\n",
    "\n",
    "Um vetor (ou matriz unidimensional) é uma variável que armazena seqüencialmente várias informações do mesmo tipo. \n",
    "\n",
    "Assim como uma variável, deve ter identificador e tipo. \n",
    "\n",
    "Como armazena vários valores, um vetor deve ter tamanho, isto é, o número de posições.\n",
    "\n",
    "![](img/Picture18.png)\n",
    "\n",
    "Sintaxe para declarar vetores:\n",
    "\n",
    "tipo nomevetor[tamanho]\n",
    "\n",
    "Exemplos:\n",
    "\n",
    "int numeros[5];\n",
    "![](img/Picture19.png)\n",
    "\n",
    "char palavra[5];\n",
    "![](img/Picture20.png)\n",
    "\n",
    "O tamanho de um vetor deve sempre ser maior ou igual à quantidade de valores que ele armazena. Caso contrário, haverá erro de **falha de segmentação**.\n",
    "\n",
    "### Acesso/Atribuição estática e dinâmica\n",
    "\n",
    "Como armazenar valores em vetores \n",
    "\n",
    "nomevetor[posicao] = valor;\n",
    "\n",
    "Exemplo:"
   ]
  },
  {
   "cell_type": "code",
   "execution_count": 1,
   "metadata": {},
   "outputs": [],
   "source": [
    "float notas[3] = {4.6, 7.8, 9.3};\n",
    "\n",
    "int vet[99], i;\n",
    "\n",
    "for (i=0; i<99; i++)\n",
    "    vet[i] = i+1;\n"
   ]
  },
  {
   "cell_type": "markdown",
   "metadata": {},
   "source": [
    "Exemplo: Armazene o valor 0 na posição 0 e qualquer valor nas demais posições de um vetor. Ao final, escolha uma posição e mostre o que está nessa posição no vetor. Se a posição não existir, mostre “Posição inválida”."
   ]
  },
  {
   "cell_type": "code",
   "execution_count": 2,
   "metadata": {},
   "outputs": [
    {
     "name": "stdout",
     "output_type": "stream",
     "text": [
      "Sorteie uma posição de 0 a 4: A posição 3 contém o valor 76"
     ]
    }
   ],
   "source": [
    "#include<iostream>\n",
    "#include<cstdlib>\n",
    "#include<time.h>\n",
    "\n",
    "srand( (unsigned) time(NULL) );\n",
    "\n",
    "int posicao;\n",
    "int vetint[5];\n",
    "\n",
    "vetint[0] = 0;\n",
    "\n",
    "for (int i=1;i<5;i++)\n",
    "{\n",
    "    vetint[i] = rand() % 1000;\n",
    "}\n",
    "\n",
    "std::cout << \"Sorteie uma posição de 0 a 4: \";\n",
    "posicao = rand() % 4;\n",
    "\n",
    "if (posicao>=0 && posicao<5)\n",
    "{\n",
    "    std::cout << \"A posição \" << posicao << \" contém o valor \" << vetint[posicao];\n",
    "}\n"
   ]
  },
  {
   "cell_type": "markdown",
   "metadata": {},
   "source": [
    "### Usado como parâmetro de função:\n"
   ]
  },
  {
   "cell_type": "code",
   "execution_count": 3,
   "metadata": {},
   "outputs": [],
   "source": [
    "float calcMedia(float vetNotas[3]) {\n",
    "    float soma = 0;\n",
    "    for (int i=0; i < 3; i++)\n",
    "        soma += vetNotas[i];\n",
    "    return soma/3.0;\n",
    "}"
   ]
  },
  {
   "attachments": {},
   "cell_type": "markdown",
   "metadata": {},
   "source": [
    "## Exercício\n",
    "\n",
    "- Faça um programa que sorteie 10 números inteiros e guarde-os em um vetor. Depois percorra o vetor para descobrir qual o maior número sorteado."
   ]
  },
  {
   "cell_type": "code",
   "execution_count": null,
   "metadata": {},
   "outputs": [],
   "source": []
  },
  {
   "cell_type": "markdown",
   "metadata": {},
   "source": [
    "## Strings\n",
    "\n",
    "Strings são vetores de chars. É um vetor de caracteres encerrado por um caracter especial nulo => ‘\\0’.\n",
    "\n",
    "São declaradas da seguinte forma:\n",
    "\n",
    "**char** nomestring [tamanho];\n",
    "\n",
    "Exemplo:"
   ]
  },
  {
   "cell_type": "code",
   "execution_count": 4,
   "metadata": {},
   "outputs": [
    {
     "name": "stdout",
     "output_type": "stream",
     "text": [
      "vetor"
     ]
    }
   ],
   "source": [
    "#include<iostream>\n",
    "\n",
    "char nome[6] = \"vetor\";\n",
    "std::cout << nome;"
   ]
  },
  {
   "cell_type": "markdown",
   "metadata": {},
   "source": [
    "![figura](img/Picture21.png)\n",
    "\n",
    "## Principais funções para manipular strings\n",
    "\n",
    "strcpy(s1,s2) – copia s2 em s1\n",
    "\n",
    "strcat(s1,s2) – concatena s2 no final de s1\n",
    "\n",
    "strlen(s1) – retorna o tamanho de s1\n",
    "\n",
    "strcmp(s1,s2) – retorna :\n",
    "- 0 se s1 e s2 são iguais; \n",
    "- menor que 0 se s1<s2 e \n",
    "- maior que zero, se s1>s2.\n",
    "\n",
    "Para manipular strings (armazenar, copiar, concatenar, etc.) utilizamos as funções da biblioteca padrão < string >."
   ]
  },
  {
   "cell_type": "code",
   "execution_count": 5,
   "metadata": {},
   "outputs": [
    {
     "name": "stdout",
     "output_type": "stream",
     "text": [
      "Comprimentos 14 21\n",
      "string pequenastring um pouco maior\n",
      "CASA está em MINHA CASA\n",
      "\n",
      "As strings são diferentes\n"
     ]
    }
   ],
   "source": [
    "#include<iostream>\n",
    "#include<string>\n",
    "\n",
    "/* Inicializar strings */\n",
    "char s1[80] = \"string pequena\";\n",
    "char s2[80] = \"string um pouco maior\";    \n",
    "\n",
    "/* Calcula comprimentos das strings */\n",
    "std::cout << \"Comprimentos \" << strlen(s1) << \" \" << strlen(s2) << std::endl;\n",
    "\n",
    "/* concatenar s2 em s1 */\n",
    "strcat(s1,s2);\n",
    "std::cout << s1;\n",
    "\n",
    "/* Procurar se a string “casa” ocorre em “minha casa”*/\n",
    "if(strstr(\"Minha casa\", \"casa\"))\n",
    "    std::cout << \"\\nCASA está em MINHA CASA\\n\";\n",
    "\n",
    "if (strcmp(\"casa\", \"CASA\") != 0) \n",
    "    std::cout << \"\\nAs strings são diferentes\\n\";\n"
   ]
  },
  {
   "cell_type": "markdown",
   "metadata": {},
   "source": [
    "## Matrizes\n",
    "\n",
    "Uma matriz é um vetor de vetores\n",
    "\n",
    "A forma mais simples de matriz multidimensional é a matriz bidimensional.\n",
    "\n",
    "Exemplo de matriz bidimensional (ou tabela):\n",
    "\n",
    "![](img/Picture22.png)\n",
    "\n",
    "### Sintaxe para declarar matrizes\n",
    "\n",
    "tipo nome [dim1][dim2][dim3]...[dimN];\n",
    "\n",
    "Exemplo:"
   ]
  },
  {
   "cell_type": "code",
   "execution_count": 6,
   "metadata": {},
   "outputs": [
    {
     "name": "stdout",
     "output_type": "stream",
     "text": [
      "0"
     ]
    }
   ],
   "source": [
    "int A[10][10];\n",
    "\n",
    "//Acessando elementos\n",
    "std::cout << A[1][0];\n",
    "\n",
    "//Atribuindo elementos\n",
    "A[0][2] = 25;\n"
   ]
  },
  {
   "cell_type": "markdown",
   "metadata": {},
   "source": [
    "### Inicialização de vetores x strings x matrizes\n",
    "\n",
    "Exemplos:"
   ]
  },
  {
   "cell_type": "code",
   "execution_count": 7,
   "metadata": {},
   "outputs": [],
   "source": [
    "int De1a10[10] =  {1, 2, 3, 4, 5, 6, 7, 8, 9, 10};\n",
    "char str[21] = \"Engenharia Mecânica\";\n",
    "int tabela[4][2] = {\n",
    "1,1,\n",
    "2,4,\n",
    "3,9,\n",
    "4,16\n",
    "}; \n",
    "\n",
    "//Pode-se alternativamente adicionar várias linhas à tabela, preservando-se fixo o número de colunas.\n",
    "int tabela2[][2] = {\n",
    "1,1,\n",
    "2,4,\n",
    "3,9,\n",
    "4,16\n",
    "}; "
   ]
  },
  {
   "cell_type": "markdown",
   "metadata": {},
   "source": [
    "### Inicialização de matrizes não-dimensionadas\n"
   ]
  },
  {
   "cell_type": "code",
   "execution_count": 8,
   "metadata": {},
   "outputs": [
    {
     "name": "stdout",
     "output_type": "stream",
     "text": [
      "Olá, Mundo! \n",
      "tem 15 caracteres\n"
     ]
    }
   ],
   "source": [
    "char e1[]=\"Olá, Mundo! \\n\";\n",
    "char e2[]=\"Bom dia, Aracruz! \\n\";\n",
    "\n",
    "//Os tamanhos de e1 e e2 são definidos pelo compilador C++\n",
    "\n",
    "std::cout << e1 <<  \"tem \" << sizeof(e1) << \" caracteres\\n\";"
   ]
  },
  {
   "cell_type": "code",
   "execution_count": 9,
   "metadata": {},
   "outputs": [
    {
     "name": "stdout",
     "output_type": "stream",
     "text": [
      "39\n",
      "79\n",
      "82\n"
     ]
    }
   ],
   "source": [
    "// Exemplo: Preencha uma matriz 3x3 com números inteiros aleatórios e mostre sua diagonal.\n",
    "#include<iostream>\n",
    "#include<cstdlib>\n",
    "#include<time.h>\n",
    "\n",
    "srand( (unsigned) time(NULL) );\n",
    "\n",
    "int numeros[3][3];\n",
    "\n",
    "for(int i=0;i<3;i++)\n",
    "    for(int j=0;j<3;j++)\n",
    "        numeros[i][j] = rand()%100;\n",
    "  \n",
    "for(int i=0;i<3;i++) \n",
    "    std::cout << numeros[i][i] << std::endl;"
   ]
  },
  {
   "cell_type": "markdown",
   "metadata": {},
   "source": [
    "### Exercícios:\n",
    "- Preencha uma matriz 5x5 e passe como parâmetro para as seguintes funções exibirem:\n",
    "    - a matriz triangular inferior, \n",
    "    - a diagonal principal e \n",
    "    - a matriz triangular superior.\n",
    "- Você saberia fazer um jogo da velha em C/C++?\n"
   ]
  },
  {
   "cell_type": "code",
   "execution_count": 10,
   "metadata": {},
   "outputs": [
    {
     "data": {
      "text/plain": [
       "\"Quem Ganhou?\""
      ]
     },
     "execution_count": 10,
     "metadata": {},
     "output_type": "execute_result"
    }
   ],
   "source": [
    "//https://github.com/QuantStack/xwidgets/blob/master/notebooks/xwidgets.ipynb\n",
    "#include \"xwidgets/xbox.hpp\"\n",
    "xw::vbox matriz;\n",
    "#include \"xwidgets/xbutton.hpp\"\n",
    "xw::button botao;\n",
    "botao.description = \"Quem Ganhou?\""
   ]
  },
  {
   "cell_type": "code",
   "execution_count": 11,
   "metadata": {},
   "outputs": [],
   "source": [
    "#include \"xwidgets/xtext.hpp\"\n",
    "xw::text text[3][3];"
   ]
  },
  {
   "cell_type": "code",
   "execution_count": 12,
   "metadata": {},
   "outputs": [],
   "source": [
    "xw::hbox linha1;\n",
    "linha1.add(text[0][0]);\n",
    "linha1.add(text[0][1]);\n",
    "linha1.add(text[0][2]);\n",
    "xw::hbox linha2;\n",
    "linha2.add(text[1][0]);\n",
    "linha2.add(text[1][1]);\n",
    "linha2.add(text[1][2]);\n",
    "xw::hbox linha3;\n",
    "linha3.add(text[2][0]);\n",
    "linha3.add(text[2][1]);\n",
    "linha3.add(text[2][2]);\n",
    "matriz.add(linha1);\n",
    "matriz.add(linha2);\n",
    "matriz.add(linha3);\n",
    "matriz.add(botao);"
   ]
  },
  {
   "cell_type": "code",
   "execution_count": 13,
   "metadata": {},
   "outputs": [
    {
     "data": {
      "application/vnd.jupyter.widget-view+json": {
       "model_id": "a8018058197e42b3bcbd2a514e5a2a88",
       "version_major": 2,
       "version_minor": 0
      },
      "text/plain": [
       "A Jupyter widget"
      ]
     },
     "execution_count": 13,
     "metadata": {},
     "output_type": "execute_result"
    },
    {
     "name": "stdout",
     "output_type": "stream",
     "text": [
      "Verifica se X ou O ganhou!\n",
      "Verifica se X ou O ganhou!\n"
     ]
    }
   ],
   "source": [
    "matriz"
   ]
  },
  {
   "cell_type": "code",
   "execution_count": 14,
   "metadata": {},
   "outputs": [],
   "source": [
    "#include<iostream>\n",
    "\n",
    "void QuemGanhou()\n",
    "{\n",
    "    std::cout << \"Verifica se X ou O ganhou!\" << std::endl;\n",
    "}"
   ]
  },
  {
   "cell_type": "code",
   "execution_count": 15,
   "metadata": {},
   "outputs": [],
   "source": [
    "botao.on_click(QuemGanhou);"
   ]
  },
  {
   "cell_type": "markdown",
   "metadata": {},
   "source": [
    "## Boas práticas de programação\n",
    "\n",
    "- Entenda claramente como os dados estão sendo armazenados em vetores e matrizes. Dica: Faça simulações em desenhos.\n",
    "- Observe como os índices percorrem vetores e matrizes. Certifique-se de que variam a partir da posição zero e não ultrapassam a posição (n-1), onde n é o número de itens (em linhas e/ou colunas).\n",
    "- Tenha certeza de que reservou espaço de sobra para armazenar vetores e matrizes.\n",
    "- Ao realizar testes de matrizes e vetores, primeiro faça para um número pequeno de dimensões e depois para um número maior.\n"
   ]
  },
  {
   "cell_type": "code",
   "execution_count": null,
   "metadata": {},
   "outputs": [],
   "source": []
  }
 ],
 "metadata": {
  "kernelspec": {
   "display_name": "C++14",
   "language": "C++14",
   "name": "xeus-cling-cpp14"
  },
  "language_info": {
   "codemirror_mode": "text/x-c++src",
   "file_extension": ".cpp",
   "mimetype": "text/x-c++src",
   "name": "c++",
   "version": "14"
  }
 },
 "nbformat": 4,
 "nbformat_minor": 2
}
